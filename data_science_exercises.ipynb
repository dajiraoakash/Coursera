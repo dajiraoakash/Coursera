{
 "cells": [
  {
   "cell_type": "markdown",
   "id": "0c760eb6",
   "metadata": {},
   "source": [
    "# Data Science Exercises"
   ]
  },
  {
   "cell_type": "markdown",
   "id": "4c11a552",
   "metadata": {},
   "source": [
    "## Introduction\n",
    "This notebook contains exercises related to basic Data Science concepts."
   ]
  },
  {
   "cell_type": "markdown",
   "id": "22a6a3ff",
   "metadata": {},
   "source": [
    "## Data Science Languages\n",
    "- Python\n",
    "- R\n",
    "- SQL\n",
    "- Java\n",
    "- Scala"
   ]
  },
  {
   "cell_type": "markdown",
   "id": "4cacf096",
   "metadata": {},
   "source": [
    "## Data Science Libraries\n",
    "- Pandas\n",
    "- NumPy\n",
    "- Scikit-learn\n",
    "- TensorFlow\n",
    "- PyTorch"
   ]
  },
  {
   "cell_type": "markdown",
   "id": "e59eac9f",
   "metadata": {},
   "source": [
    "## Data Science Tools\n",
    "| Tool | Description |\n",
    "|------|-------------|\n",
    "| Jupyter Notebook | Interactive computing environment |\n",
    "| Apache Spark | Big data processing |\n",
    "| Tableau | Data visualization |\n",
    "| Power BI | Business intelligence |\n",
    "| Hadoop | Distributed storage and processing |"
   ]
  },
  {
   "cell_type": "markdown",
   "id": "6bf38718",
   "metadata": {},
   "source": [
    "## Arithmetic Expressions\n",
    "Below are examples of arithmetic operations in Python."
   ]
  },
  {
   "cell_type": "code",
   "execution_count": null,
   "id": "bb7536a3",
   "metadata": {},
   "outputs": [],
   "source": [
    "# Multiplication and Addition\n",
    "result = (3 * 4) + 5\n",
    "result"
   ]
  },
  {
   "cell_type": "code",
   "execution_count": null,
   "id": "78bc165a",
   "metadata": {},
   "outputs": [],
   "source": [
    "# Convert minutes to hours\n",
    "minutes = 120\n",
    "hours = minutes / 60\n",
    "hours"
   ]
  },
  {
   "cell_type": "markdown",
   "id": "f2c2db6c",
   "metadata": {},
   "source": [
    "## Objectives\n",
    "- Learn about Data Science languages and libraries\n",
    "- Understand common tools used in Data Science\n",
    "- Practice arithmetic operations in Python"
   ]
  },
  {
   "cell_type": "markdown",
   "id": "76c4ccd3",
   "metadata": {},
   "source": [
    "## Author\n",
    "**Daji Rao Akash**"
   ]
  }
 ],
 "metadata": {
  "language_info": {
   "name": "python"
  }
 },
 "nbformat": 4,
 "nbformat_minor": 5
}
